{
 "cells": [
  {
   "cell_type": "code",
   "execution_count": 1,
   "metadata": {},
   "outputs": [],
   "source": [
    "# If the two objects received from the user are of an integer type, write a Python program to sum the two objects.\n",
    "#Kullanıcıdan alınan iki nesne tamsayı türündeyse, iki nesneyi toplamak için bir Python programı yazın."
   ]
  },
  {
   "cell_type": "code",
   "execution_count": 9,
   "metadata": {},
   "outputs": [
    {
     "name": "stdout",
     "output_type": "stream",
     "text": [
      "8\n"
     ]
    }
   ],
   "source": [
    "x = input(\"please enter a number\")\n",
    "y = input(\"please enter a number again\")\n",
    "\n",
    "if x.isnumeric() and y.isnumeric():\n",
    "     result = int(x) + int(y)\n",
    "else:\n",
    "     result = \"you have not entered number\"\n",
    "     \n",
    "print(result)\n"
   ]
  }
 ],
 "metadata": {
  "kernelspec": {
   "display_name": "Python 3",
   "language": "python",
   "name": "python3"
  },
  "language_info": {
   "codemirror_mode": {
    "name": "ipython",
    "version": 3
   },
   "file_extension": ".py",
   "mimetype": "text/x-python",
   "name": "python",
   "nbconvert_exporter": "python",
   "pygments_lexer": "ipython3",
   "version": "3.12.1"
  }
 },
 "nbformat": 4,
 "nbformat_minor": 2
}
