{
 "cells": [
  {
   "cell_type": "markdown",
   "metadata": {},
   "source": [
    "Kullanıcıdan haftalık çalışma saatini ve ücret bilgisini isteyiniz, eğer haftalık çalışma ücreti 40+ ise saatlik ücreti 1.5 katıyla çarpın."
   ]
  },
  {
   "cell_type": "code",
   "execution_count": 2,
   "metadata": {},
   "outputs": [
    {
     "name": "stdout",
     "output_type": "stream",
     "text": [
      "Haftalık ücretiniz 600\n"
     ]
    }
   ],
   "source": [
    "calisma_saati = int(input(\"Lütfen haftalık çalışma saatinizi giriniz.\"))\n",
    "saatlik_ücret = int(input(\"Lütfen saatlik ücret bilginizi giriniz.\"))\n",
    "\n",
    "if calisma_saati > 40:\n",
    "    haftalik_ücret = (calisma_saati - 40) * (1.5 * saatlik_ücret) + 40 * saatlik_ücret\n",
    "else:\n",
    "    haftalik_ücret = calisma_saati * saatlik_ücret\n",
    "\n",
    "print(f\"Haftalık ücretiniz {haftalik_ücret}\")    "
   ]
  },
  {
   "cell_type": "code",
   "execution_count": 3,
   "metadata": {},
   "outputs": [],
   "source": [
    "# açıklaması\n",
    "# eğer 40 üzeri çalışıyorsan, 40 üzeri çalıştığın saat kadarını, saatlik ücretinin 1.5 katıyla çarp ve üzerine 40'a kadar ki saatlik ücretini ekle."
   ]
  },
  {
   "cell_type": "code",
   "execution_count": null,
   "metadata": {},
   "outputs": [],
   "source": []
  }
 ],
 "metadata": {
  "kernelspec": {
   "display_name": "Python 3",
   "language": "python",
   "name": "python3"
  },
  "language_info": {
   "codemirror_mode": {
    "name": "ipython",
    "version": 3
   },
   "file_extension": ".py",
   "mimetype": "text/x-python",
   "name": "python",
   "nbconvert_exporter": "python",
   "pygments_lexer": "ipython3",
   "version": "3.12.1"
  }
 },
 "nbformat": 4,
 "nbformat_minor": 2
}
