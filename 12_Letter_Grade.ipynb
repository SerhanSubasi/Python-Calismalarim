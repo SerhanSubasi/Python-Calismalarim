{
 "cells": [
  {
   "cell_type": "code",
   "execution_count": 1,
   "metadata": {},
   "outputs": [],
   "source": [
    "# Ask the user for the grade she/he got from the exam and print the letter frade cerresponding to her/his grade.\n",
    "\n",
    "#Kullanıcıdan sınavdan aldığı notu isteyin ve notuna karşılık gelen harf notunu yazdırın."
   ]
  },
  {
   "cell_type": "code",
   "execution_count": 6,
   "metadata": {},
   "outputs": [
    {
     "name": "stdout",
     "output_type": "stream",
     "text": [
      "A\n"
     ]
    }
   ],
   "source": [
    "grade  = int(input(\"Please enter your score among 1 and 100\"))\n",
    "\n",
    "if grade < 0:\n",
    "    print(\"Grade note can not be negative\")\n",
    "elif grade < 50:\n",
    "    print(\"F\")\n",
    "elif grade < 55:\n",
    "    print(\"D\")\n",
    "elif grade < 65:\n",
    "    print(\"C\")\n",
    "elif grade < 80:\n",
    "    print(\"B\")\n",
    "elif grade <= 100:\n",
    "    print(\"A\")\n",
    "else:\n",
    "    print(\"Please check your score\")"
   ]
  }
 ],
 "metadata": {
  "kernelspec": {
   "display_name": "Python 3",
   "language": "python",
   "name": "python3"
  },
  "language_info": {
   "codemirror_mode": {
    "name": "ipython",
    "version": 3
   },
   "file_extension": ".py",
   "mimetype": "text/x-python",
   "name": "python",
   "nbconvert_exporter": "python",
   "pygments_lexer": "ipython3",
   "version": "3.12.1"
  }
 },
 "nbformat": 4,
 "nbformat_minor": 2
}
