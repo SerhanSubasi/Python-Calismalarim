{
 "cells": [
  {
   "cell_type": "markdown",
   "metadata": {},
   "source": [
    "Kullanıcıdan aldığınız bir dizenin ilk 3 ve son 3 karakterinden oluşan bir dize döndürün. Dize uzunluğu 3'ten az ise, \"empty string\" döndürün."
   ]
  },
  {
   "cell_type": "code",
   "execution_count": 9,
   "metadata": {},
   "outputs": [
    {
     "name": "stdout",
     "output_type": "stream",
     "text": [
      "empty string\n"
     ]
    }
   ],
   "source": [
    "dize = input(\"Bir dize giriniz\")\n",
    "if len(dize) >= 3:\n",
    "    print(dize[0 : 3] + dize[ -3 :])\n",
    "else:\n",
    "    print(\"empty string\")\n"
   ]
  },
  {
   "cell_type": "code",
   "execution_count": null,
   "metadata": {},
   "outputs": [],
   "source": []
  }
 ],
 "metadata": {
  "kernelspec": {
   "display_name": "Python 3",
   "language": "python",
   "name": "python3"
  },
  "language_info": {
   "codemirror_mode": {
    "name": "ipython",
    "version": 3
   },
   "file_extension": ".py",
   "mimetype": "text/x-python",
   "name": "python",
   "nbconvert_exporter": "python",
   "pygments_lexer": "ipython3",
   "version": "3.12.1"
  }
 },
 "nbformat": 4,
 "nbformat_minor": 2
}
