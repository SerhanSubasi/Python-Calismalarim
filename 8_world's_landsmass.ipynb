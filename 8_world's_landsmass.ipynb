{
 "cells": [
  {
   "cell_type": "code",
   "execution_count": 4,
   "metadata": {},
   "outputs": [],
   "source": [
    "# Write a porgram that takes a country's name and it's area as arguments and returns the area of the country's proportion of the total worlds's landmass.\n",
    "\n",
    "# Bir ülkenin adını ve yüzey alanını argüman olarak alan ve ülkenin toplam dünya kara kütlesine oranını veren bir program yazın.\n",
    "\n",
    "#Examples\n",
    "#'Russia', 17098242 ==> \"Russia is 11.48% of the total world's landmass\"\n",
    "#The total world's landmass is 148,940.000 (km ** 2)"
   ]
  },
  {
   "cell_type": "code",
   "execution_count": 8,
   "metadata": {},
   "outputs": [
    {
     "name": "stdout",
     "output_type": "stream",
     "text": [
      "Türkiye is 0.53 % of the total world's landmass\n"
     ]
    }
   ],
   "source": [
    "country = input(\"Please enter a country name\")\n",
    "area = input(\"Please enter teh area of the country\")\n",
    "earth = 148940000\n",
    "\n",
    "percentile = (int(area) / earth) * 100\n",
    "\n",
    "print(f\"{country} is {round(percentile,2)} % of the total world's landmass\")\n",
    "\n"
   ]
  }
 ],
 "metadata": {
  "kernelspec": {
   "display_name": "Python 3",
   "language": "python",
   "name": "python3"
  },
  "language_info": {
   "codemirror_mode": {
    "name": "ipython",
    "version": 3
   },
   "file_extension": ".py",
   "mimetype": "text/x-python",
   "name": "python",
   "nbconvert_exporter": "python",
   "pygments_lexer": "ipython3",
   "version": "3.12.1"
  }
 },
 "nbformat": 4,
 "nbformat_minor": 2
}
