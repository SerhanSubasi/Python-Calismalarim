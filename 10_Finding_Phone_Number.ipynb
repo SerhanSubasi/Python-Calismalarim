{
 "cells": [
  {
   "cell_type": "code",
   "execution_count": 1,
   "metadata": {},
   "outputs": [],
   "source": [
    "# Write python code that extract the phone number in a give nstring expression.\n",
    "\n",
    "# Examples:\n",
    "\n",
    "# given_str = \"My phone number is (111) 222-33-44\"\n",
    "\n",
    "# output: 1112223344"
   ]
  },
  {
   "cell_type": "code",
   "execution_count": 10,
   "metadata": {},
   "outputs": [
    {
     "name": "stdout",
     "output_type": "stream",
     "text": [
      "1112223344\n"
     ]
    }
   ],
   "source": [
    "given_str = \"My phone number is (111) 222-33-44\"\n",
    "number = \"\"\n",
    "for i in given_str:\n",
    "    if i.isnumeric():\n",
    "        number += i\n",
    "        \n",
    "print(number)"
   ]
  },
  {
   "cell_type": "code",
   "execution_count": 9,
   "metadata": {},
   "outputs": [
    {
     "name": "stdout",
     "output_type": "stream",
     "text": [
      "1112223344\n"
     ]
    }
   ],
   "source": [
    "given_str = \"My phone number is (111) 222-33-44\"\n",
    "number = \"\"\n",
    "for i in given_str:\n",
    "    if i in \"0123456789\":\n",
    "        number += i\n",
    "        \n",
    "print(number)"
   ]
  }
 ],
 "metadata": {
  "kernelspec": {
   "display_name": "Python 3",
   "language": "python",
   "name": "python3"
  },
  "language_info": {
   "codemirror_mode": {
    "name": "ipython",
    "version": 3
   },
   "file_extension": ".py",
   "mimetype": "text/x-python",
   "name": "python",
   "nbconvert_exporter": "python",
   "pygments_lexer": "ipython3",
   "version": "3.12.1"
  }
 },
 "nbformat": 4,
 "nbformat_minor": 2
}
