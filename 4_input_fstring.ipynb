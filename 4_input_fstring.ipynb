{
 "cells": [
  {
   "cell_type": "markdown",
   "metadata": {},
   "source": [
    "Kullanıcıdan ismini, yaşını ve mesleğini alıp, bunları alt alta yazdırınız."
   ]
  },
  {
   "cell_type": "code",
   "execution_count": 5,
   "metadata": {},
   "outputs": [
    {
     "data": {
      "text/plain": [
       "'Serhan'"
      ]
     },
     "execution_count": 5,
     "metadata": {},
     "output_type": "execute_result"
    }
   ],
   "source": [
    "per = input(\"Lütfen isminizi, yaşınızı ve mesleğinizi  tek tek virgülle ayırarak giriniz\").split(\",\")\n",
    "# split ile virgüllerle ayıracağız.\n",
    "\n",
    "per[0]\n",
    "\n",
    "\n"
   ]
  },
  {
   "cell_type": "code",
   "execution_count": 7,
   "metadata": {},
   "outputs": [
    {
     "name": "stdout",
     "output_type": "stream",
     "text": [
      "name: Serhan\n",
      "age:  30\n",
      "job:  None\n"
     ]
    }
   ],
   "source": [
    "print(\"name:\", per[0])\n",
    "print(\"age:\", per[1])\n",
    "print(\"job:\", per[2])"
   ]
  },
  {
   "cell_type": "code",
   "execution_count": 10,
   "metadata": {},
   "outputs": [
    {
     "name": "stdout",
     "output_type": "stream",
     "text": [
      "name: Serhan\n",
      "age:  30\n",
      "job:  None\n"
     ]
    }
   ],
   "source": [
    "print(f\"name: {per[0]}\\nage: {per[1]}\\njob: {per[2]}\")"
   ]
  },
  {
   "cell_type": "code",
   "execution_count": null,
   "metadata": {},
   "outputs": [],
   "source": []
  }
 ],
 "metadata": {
  "kernelspec": {
   "display_name": "Python 3",
   "language": "python",
   "name": "python3"
  },
  "language_info": {
   "codemirror_mode": {
    "name": "ipython",
    "version": 3
   },
   "file_extension": ".py",
   "mimetype": "text/x-python",
   "name": "python",
   "nbconvert_exporter": "python",
   "pygments_lexer": "ipython3",
   "version": "3.12.1"
  }
 },
 "nbformat": 4,
 "nbformat_minor": 2
}
