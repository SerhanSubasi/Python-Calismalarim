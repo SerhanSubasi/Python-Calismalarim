{
 "cells": [
  {
   "cell_type": "code",
   "execution_count": 8,
   "metadata": {},
   "outputs": [
    {
     "name": "stdout",
     "output_type": "stream",
     "text": [
      "Your BMI is: 23.94 and your body type is: normal\n"
     ]
    }
   ],
   "source": [
    "# Create an algorithm that finds BMI.\n",
    "\n",
    "# Vücut kitle indeksinizi bulan bir algoritma oluşturun.\n",
    "\n",
    "w = int(input(\"Please enter your weight in kg\"))\n",
    "h= int(input(\"Please enter your height in cm\"))\n",
    "\n",
    "result = round(w / ((h / 100) ** 2),2)\n",
    "\n",
    "\n",
    "if result < 18.5:\n",
    "    body = \"underwight\"\n",
    "elif result < 25:\n",
    "    body = \"normal\"\n",
    "elif result < 30:\n",
    "    body = \"owerweight\"\n",
    "elif result < 35:\n",
    "    body = \"obese\"\n",
    "else:\n",
    "    body = \"extremely obese\"\n",
    "    \n",
    "print(f\"Your BMI is: {result} and your body type is: {body}\")"
   ]
  }
 ],
 "metadata": {
  "kernelspec": {
   "display_name": "Python 3",
   "language": "python",
   "name": "python3"
  },
  "language_info": {
   "codemirror_mode": {
    "name": "ipython",
    "version": 3
   },
   "file_extension": ".py",
   "mimetype": "text/x-python",
   "name": "python",
   "nbconvert_exporter": "python",
   "pygments_lexer": "ipython3",
   "version": "3.12.1"
  }
 },
 "nbformat": 4,
 "nbformat_minor": 2
}
